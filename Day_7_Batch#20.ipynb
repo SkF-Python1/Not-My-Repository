{
 "cells": [
  {
   "cell_type": "code",
   "execution_count": null,
   "metadata": {},
   "outputs": [],
   "source": [
    "# Introduction to For Loop in Lists:\n",
    "General Syntax :\n",
    "    for tempvar in mainvar :\n",
    "        print(tempvar)"
   ]
  },
  {
   "cell_type": "code",
   "execution_count": 1,
   "metadata": {},
   "outputs": [],
   "source": [
    "students = ['Ravi','Rahul','Depansh','Tasmiya','Gaurav']"
   ]
  },
  {
   "cell_type": "code",
   "execution_count": 2,
   "metadata": {},
   "outputs": [
    {
     "name": "stdout",
     "output_type": "stream",
     "text": [
      "['Ravi', 'Rahul', 'Depansh', 'Tasmiya', 'Gaurav']\n"
     ]
    }
   ],
   "source": [
    "print(students)"
   ]
  },
  {
   "cell_type": "code",
   "execution_count": 3,
   "metadata": {},
   "outputs": [
    {
     "data": {
      "text/plain": [
       "list"
      ]
     },
     "execution_count": 3,
     "metadata": {},
     "output_type": "execute_result"
    }
   ],
   "source": [
    "type(students)"
   ]
  },
  {
   "cell_type": "code",
   "execution_count": 4,
   "metadata": {},
   "outputs": [
    {
     "name": "stdout",
     "output_type": "stream",
     "text": [
      "Ravi\n",
      "Rahul\n",
      "Depansh\n",
      "Tasmiya\n",
      "Gaurav\n"
     ]
    }
   ],
   "source": [
    "for x in students :\n",
    "    print(x)"
   ]
  },
  {
   "cell_type": "code",
   "execution_count": null,
   "metadata": {},
   "outputs": [],
   "source": [
    "Defintion : For loop is used to iterate over elements of given list."
   ]
  },
  {
   "cell_type": "code",
   "execution_count": null,
   "metadata": {},
   "outputs": [],
   "source": [
    "Requirement : To Appreciate Stundents belonging to above list"
   ]
  },
  {
   "cell_type": "code",
   "execution_count": 5,
   "metadata": {},
   "outputs": [
    {
     "name": "stdout",
     "output_type": "stream",
     "text": [
      "Keep up the good work , Ravi\n",
      "Keep up the good work , Rahul\n",
      "Keep up the good work , Depansh\n",
      "Keep up the good work , Tasmiya\n",
      "Keep up the good work , Gaurav\n"
     ]
    }
   ],
   "source": [
    "for comp in students:\n",
    "    print(f\"Keep up the good work , {comp}\")"
   ]
  },
  {
   "cell_type": "code",
   "execution_count": null,
   "metadata": {},
   "outputs": [],
   "source": [
    "#Also we can add other methods "
   ]
  },
  {
   "cell_type": "code",
   "execution_count": 6,
   "metadata": {},
   "outputs": [
    {
     "name": "stdout",
     "output_type": "stream",
     "text": [
      "Keep up the good work , Ravi\n",
      "Keep up the good work , Rahul\n",
      "Keep up the good work , Depansh\n",
      "Keep up the good work , Tasmiya\n",
      "Keep up the good work , Gaurav\n"
     ]
    }
   ],
   "source": [
    "for celeb in students:\n",
    "    print(f\"Keep up the good work , {celeb.title()}\")"
   ]
  },
  {
   "cell_type": "code",
   "execution_count": null,
   "metadata": {},
   "outputs": [],
   "source": []
  }
 ],
 "metadata": {
  "kernelspec": {
   "display_name": "Python 3",
   "language": "python",
   "name": "python3"
  },
  "language_info": {
   "codemirror_mode": {
    "name": "ipython",
    "version": 3
   },
   "file_extension": ".py",
   "mimetype": "text/x-python",
   "name": "python",
   "nbconvert_exporter": "python",
   "pygments_lexer": "ipython3",
   "version": "3.7.6"
  }
 },
 "nbformat": 4,
 "nbformat_minor": 4
}
