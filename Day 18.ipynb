{
 "cells": [
  {
   "cell_type": "code",
   "execution_count": null,
   "metadata": {},
   "outputs": [],
   "source": [
    "# Continuation with functions\n",
    " Understanding types of argumets\n",
    "    There are 3 types of arguments:\n",
    "        1.Default Argument\n",
    "        2.Positional Argument\n",
    "        3.Key word Arguments"
   ]
  },
  {
   "cell_type": "code",
   "execution_count": null,
   "metadata": {},
   "outputs": [],
   "source": [
    "# General Syntax of a Function \n",
    "  def fnc_name():\n",
    "        print()"
   ]
  },
  {
   "cell_type": "code",
   "execution_count": 4,
   "metadata": {},
   "outputs": [],
   "source": [
    "def greeting(user1,fav_lang):\n",
    "    print(f'Hello {user1.title()}.')\n",
    "    print(f'Your favorite language is {fav_lang.title()}')"
   ]
  },
  {
   "cell_type": "code",
   "execution_count": 6,
   "metadata": {},
   "outputs": [
    {
     "name": "stdout",
     "output_type": "stream",
     "text": [
      "Hello Farhan.\n",
      "Your favorite language is Python\n"
     ]
    }
   ],
   "source": [
    "greeting('farhan','python')"
   ]
  },
  {
   "cell_type": "code",
   "execution_count": 13,
   "metadata": {},
   "outputs": [],
   "source": [
    "# Default Argument :\n",
    "def greeting(fav_lang,user1='Your name here'):#Default Argument is used at last position\n",
    "    print(f'Hello {user1.title()}.')\n",
    "    print(f'Your favorite language is {fav_lang.title()}')"
   ]
  },
  {
   "cell_type": "code",
   "execution_count": 12,
   "metadata": {},
   "outputs": [
    {
     "name": "stdout",
     "output_type": "stream",
     "text": [
      "Hello Your Name Here.\n",
      "Your favorite language is C++\n"
     ]
    }
   ],
   "source": [
    "greeting('C++')"
   ]
  },
  {
   "cell_type": "code",
   "execution_count": 14,
   "metadata": {},
   "outputs": [],
   "source": [
    "# Postional Arugment\n",
    "def greeting(fav_lang,user1):\n",
    "    print(f'Hello {user1.title()}.')\n",
    "    print(f'Your favorite language is {fav_lang.title()}')"
   ]
  },
  {
   "cell_type": "code",
   "execution_count": 15,
   "metadata": {},
   "outputs": [
    {
     "name": "stdout",
     "output_type": "stream",
     "text": [
      "Hello Python.\n",
      "Your favorite language is Farhan\n"
     ]
    }
   ],
   "source": [
    "greeting('farhan','python')"
   ]
  },
  {
   "cell_type": "code",
   "execution_count": 16,
   "metadata": {},
   "outputs": [
    {
     "name": "stdout",
     "output_type": "stream",
     "text": [
      "Hello Farhan.\n",
      "Your favorite language is Python\n"
     ]
    }
   ],
   "source": [
    "greeting('python','farhan')"
   ]
  },
  {
   "cell_type": "code",
   "execution_count": null,
   "metadata": {},
   "outputs": [],
   "source": []
  },
  {
   "cell_type": "code",
   "execution_count": null,
   "metadata": {},
   "outputs": [],
   "source": [
    "#Introduction to arbitarary argumets :"
   ]
  },
  {
   "cell_type": "code",
   "execution_count": 17,
   "metadata": {},
   "outputs": [],
   "source": [
    "def members(name):\n",
    "    print(f'Hello {name.title()} thank you for joining.')\n",
    "    print(f'Hope you will be regular')"
   ]
  },
  {
   "cell_type": "code",
   "execution_count": 18,
   "metadata": {},
   "outputs": [
    {
     "name": "stdout",
     "output_type": "stream",
     "text": [
      "Hello Farhan thank you for joining.\n",
      "Hope you will be regular\n"
     ]
    }
   ],
   "source": [
    "members('farhan')"
   ]
  },
  {
   "cell_type": "code",
   "execution_count": 19,
   "metadata": {},
   "outputs": [
    {
     "ename": "TypeError",
     "evalue": "members() takes 1 positional argument but 2 were given",
     "output_type": "error",
     "traceback": [
      "\u001b[1;31m---------------------------------------------------------------------------\u001b[0m",
      "\u001b[1;31mTypeError\u001b[0m                                 Traceback (most recent call last)",
      "\u001b[1;32m<ipython-input-19-5082c70cb1ac>\u001b[0m in \u001b[0;36m<module>\u001b[1;34m\u001b[0m\n\u001b[1;32m----> 1\u001b[1;33m \u001b[0mmembers\u001b[0m\u001b[1;33m(\u001b[0m\u001b[1;34m'farhan'\u001b[0m\u001b[1;33m,\u001b[0m\u001b[1;34m'akshay'\u001b[0m\u001b[1;33m)\u001b[0m\u001b[1;33m\u001b[0m\u001b[1;33m\u001b[0m\u001b[0m\n\u001b[0m",
      "\u001b[1;31mTypeError\u001b[0m: members() takes 1 positional argument but 2 were given"
     ]
    }
   ],
   "source": [
    "members('farhan','akshay')"
   ]
  },
  {
   "cell_type": "code",
   "execution_count": null,
   "metadata": {},
   "outputs": [],
   "source": [
    "# By using an astrik sign before the parameter we can use arbitraty arguments"
   ]
  },
  {
   "cell_type": "code",
   "execution_count": 29,
   "metadata": {},
   "outputs": [],
   "source": [
    "def members(*name):\n",
    "    for x in name:\n",
    "        print(f'Hello {name} thank you for joining.')\n",
    "        print(f'Hope you will be regular.\\n')   \n",
    "    "
   ]
  },
  {
   "cell_type": "code",
   "execution_count": 30,
   "metadata": {},
   "outputs": [
    {
     "name": "stdout",
     "output_type": "stream",
     "text": [
      "Hello ('farhan', 'akshay') thank you for joining.\n",
      "Hope you will be regular.\n",
      "\n",
      "Hello ('farhan', 'akshay') thank you for joining.\n",
      "Hope you will be regular.\n",
      "\n"
     ]
    }
   ],
   "source": [
    "members('farhan','akshay')"
   ]
  },
  {
   "cell_type": "code",
   "execution_count": null,
   "metadata": {},
   "outputs": [],
   "source": []
  },
  {
   "cell_type": "code",
   "execution_count": null,
   "metadata": {},
   "outputs": [],
   "source": []
  }
 ],
 "metadata": {
  "kernelspec": {
   "display_name": "Python 3",
   "language": "python",
   "name": "python3"
  },
  "language_info": {
   "codemirror_mode": {
    "name": "ipython",
    "version": 3
   },
   "file_extension": ".py",
   "mimetype": "text/x-python",
   "name": "python",
   "nbconvert_exporter": "python",
   "pygments_lexer": "ipython3",
   "version": "3.7.6"
  }
 },
 "nbformat": 4,
 "nbformat_minor": 4
}
