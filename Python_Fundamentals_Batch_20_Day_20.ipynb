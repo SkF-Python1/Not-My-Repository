{
 "cells": [
  {
   "cell_type": "code",
   "execution_count": null,
   "metadata": {},
   "outputs": [],
   "source": [
    "# Adding Files in Python:\n",
    "1. Upload file in JP notebook\n",
    "2.Syntax with open('filename.ext') as alias:\n",
    "    variable = alias.read()"
   ]
  },
  {
   "cell_type": "code",
   "execution_count": 2,
   "metadata": {},
   "outputs": [
    {
     "name": "stdout",
     "output_type": "stream",
     "text": [
      "abc \n",
      "efg\n",
      "hijklm\n",
      "nopqr\n"
     ]
    }
   ],
   "source": [
    "with open('test1.txt') as ts_object:\n",
    "    contents = ts_object.read()\n",
    "print(contents)    "
   ]
  },
  {
   "cell_type": "code",
   "execution_count": 4,
   "metadata": {},
   "outputs": [],
   "source": [
    "# Enhancemnt of the code :  "
   ]
  },
  {
   "cell_type": "code",
   "execution_count": 6,
   "metadata": {},
   "outputs": [
    {
     "name": "stdout",
     "output_type": "stream",
     "text": [
      "abc \n",
      "\n",
      "efg\n",
      "\n",
      "hijklm\n",
      "\n",
      "nopqr\n"
     ]
    }
   ],
   "source": [
    "file_name = \"test1.txt\"\n",
    "with open(file_name) as ts_object:\n",
    "    for line in ts_object:\n",
    "        print(line)"
   ]
  },
  {
   "cell_type": "code",
   "execution_count": null,
   "metadata": {},
   "outputs": [],
   "source": [
    "# Writing file in Python:\n",
    "Syntax: with open('filename.txt','w') as alias: # \"w\" stands for write mode\n",
    "    alias.write('text')"
   ]
  },
  {
   "cell_type": "code",
   "execution_count": 8,
   "metadata": {},
   "outputs": [],
   "source": [
    "filename = 'test1.txt'\n",
    "with open(filename, 'w') as ts_object:\n",
    "    ts_object.write('This file is edited in Python.')\n",
    "    ts_object.write('Loaded sucessfully')    "
   ]
  },
  {
   "cell_type": "code",
   "execution_count": null,
   "metadata": {},
   "outputs": [],
   "source": [
    "#Reading files in Python:\n",
    "Syntax: with open('filename' , 'r') as alias:\n",
    "       var = alias.read()\n",
    "    print(var)"
   ]
  },
  {
   "cell_type": "code",
   "execution_count": 9,
   "metadata": {},
   "outputs": [
    {
     "name": "stdout",
     "output_type": "stream",
     "text": [
      "This file is edited in Python.Loaded sucessfully\n"
     ]
    }
   ],
   "source": [
    "with open('test1.txt','r') as ts_object:\n",
    "    rd = ts_object.read()\n",
    "    print(rd)"
   ]
  },
  {
   "cell_type": "code",
   "execution_count": null,
   "metadata": {},
   "outputs": [],
   "source": [
    "#Appending in files : \n",
    "Syntax : with open('filename' , 'a') as alias:\n",
    "        alias.write('Requried Data')"
   ]
  },
  {
   "cell_type": "code",
   "execution_count": 10,
   "metadata": {},
   "outputs": [],
   "source": [
    "with open('test1.txt' , 'a') as ts_obj:\n",
    "    ts_obj.write('I like adding Files.')"
   ]
  },
  {
   "cell_type": "code",
   "execution_count": 11,
   "metadata": {},
   "outputs": [
    {
     "name": "stdout",
     "output_type": "stream",
     "text": [
      "This file is edited in Python.Loaded sucessfullyI like adding Files.\n"
     ]
    }
   ],
   "source": [
    "with open('test1.txt', 'r') as rd:\n",
    "    look = rd.read()\n",
    "print(look)"
   ]
  },
  {
   "cell_type": "code",
   "execution_count": null,
   "metadata": {},
   "outputs": [],
   "source": [
    "#Enhancemnt of the Code"
   ]
  },
  {
   "cell_type": "code",
   "execution_count": 12,
   "metadata": {},
   "outputs": [],
   "source": [
    "filename = 'test1.txt'\n",
    "with open(filename, 'w') as ts_object:\n",
    "    ts_object.write('This file is edited in Python.\\n')\n",
    "    ts_object.write('Loaded sucessfully.\\n')  "
   ]
  },
  {
   "cell_type": "code",
   "execution_count": 13,
   "metadata": {},
   "outputs": [],
   "source": [
    "with open('test1.txt' , 'a') as ts_obj:\n",
    "    ts_obj.write('I like adding Files.')"
   ]
  },
  {
   "cell_type": "code",
   "execution_count": 15,
   "metadata": {},
   "outputs": [
    {
     "name": "stdout",
     "output_type": "stream",
     "text": [
      "This file is edited in Python.\n",
      "Loaded sucessfully.\n",
      "I like adding Files.\n"
     ]
    }
   ],
   "source": [
    "with open('test1.txt', 'r') as rd:\n",
    "    look = rd.read()\n",
    "print(look)"
   ]
  },
  {
   "cell_type": "code",
   "execution_count": null,
   "metadata": {},
   "outputs": [],
   "source": []
  }
 ],
 "metadata": {
  "kernelspec": {
   "display_name": "Python 3",
   "language": "python",
   "name": "python3"
  },
  "language_info": {
   "codemirror_mode": {
    "name": "ipython",
    "version": 3
   },
   "file_extension": ".py",
   "mimetype": "text/x-python",
   "name": "python",
   "nbconvert_exporter": "python",
   "pygments_lexer": "ipython3",
   "version": "3.7.6"
  }
 },
 "nbformat": 4,
 "nbformat_minor": 4
}
